{
 "cells": [
  {
   "cell_type": "markdown",
   "metadata": {},
   "source": [
    "# Module Big Data I\n",
    "\n",
    "Contact details: \n",
    "\n",
    "Jan Buć\n",
    "\n",
    "jan_buc@epam.com\n",
    "\n",
    " \n",
    "\n",
    " \n",
    "\n",
    "Duration: 1,5h. \n",
    "\n",
    " \n",
    "\n",
    "Max score: 5 points for report. \n",
    "\n",
    " \n",
    "\n",
    "Conditions for completion: attendance, source code and report from exercise being sent to Github. \n",
    "\n",
    " \n",
    "\n",
    "Introductory materials: \n",
    "\n",
    "https://pandas.pydata.org/pandas-docs/stable/user_guide/index.html#user-guide\n",
    "https://pandas.pydata.org/pandas-docs/stable/reference/api/pandas.DataFrame.groupby.html\n",
    "https://pandas.pydata.org/pandas-docs/stable/reference/api/pandas.MultiIndex.html\n",
    "https://en.wikipedia.org/wiki/Extract,_transform,_load\n",
    "\n",
    " \n",
    "\n",
    "Required environment: \n",
    "\n",
    "- VS Code as recomended IDE\n",
    "- Installed Jupyter plugin in VS Code\n",
    "- Python 3.8 \n",
    "- Pip for Python 3.8\n",
    "\n",
    "# Goal of exercise\n",
    "Walkthrough some basic Pandas operations. All code is avaliable and ready to use. \n",
    "There are two common parts with tasks for which code will be written during classes. "
   ]
  },
  {
   "cell_type": "markdown",
   "metadata": {},
   "source": [
    "# Report\n",
    "Report_part1.ipynb needs to be edited during class. It contains all needed information to complete the laboratory and needs to be sent back as a report. \n",
    "\n",
    "For report 5 points will be distributed as:\n",
    "- 1 point for common part covered\n",
    "- 3 point for done homework (1 point for each subtask)\n",
    "- 1 point for teoretical introduction for followed topics (up to 4 sentences will be sufficient)\n",
    "     -  What is pandas and it is for\n",
    "     -  Vectorized operations"
   ]
  },
  {
   "cell_type": "markdown",
   "metadata": {},
   "source": [
    "# Environment preparation\n",
    "Clone your individual repository with exercise\n",
    "> git clone <repo_name> \n",
    "<br>\n",
    "\n",
    "Create virtual environment in VS Code terminal\n",
    "<br>\n",
    "> python3 -m venv venv \n",
    "<br>\n",
    "\n",
    "Install needed dependencies\n",
    "<br>\n",
    "> pip install ipykernel\n",
    "<br>\n",
    "> pip install pandas"
   ]
  },
  {
   "cell_type": "markdown",
   "metadata": {},
   "source": [
    "# Theoretical Introduction"
   ]
  },
  {
   "cell_type": "markdown",
   "metadata": {},
   "source": [
    "write it here..."
   ]
  },
  {
   "cell_type": "markdown",
   "metadata": {},
   "source": [
    "# Introduction"
   ]
  },
  {
   "cell_type": "code",
   "execution_count": 4,
   "metadata": {},
   "outputs": [],
   "source": [
    "import pandas as pd"
   ]
  },
  {
   "cell_type": "markdown",
   "metadata": {},
   "source": [
    "Data loading and basic dataframe information"
   ]
  },
  {
   "cell_type": "code",
   "execution_count": 7,
   "metadata": {},
   "outputs": [],
   "source": [
    "data = pd.read_csv(\"sales_records.csv\")"
   ]
  },
  {
   "cell_type": "code",
   "execution_count": 25,
   "metadata": {},
   "outputs": [
    {
     "name": "stdout",
     "output_type": "stream",
     "text": [
      "<class 'pandas.core.frame.DataFrame'>\n",
      "RangeIndex: 1000 entries, 0 to 999\n",
      "Data columns (total 14 columns):\n",
      " #   Column          Non-Null Count  Dtype  \n",
      "---  ------          --------------  -----  \n",
      " 0   Region          1000 non-null   object \n",
      " 1   Country         1000 non-null   object \n",
      " 2   Item Type       1000 non-null   object \n",
      " 3   Sales Channel   1000 non-null   object \n",
      " 4   Order Priority  1000 non-null   object \n",
      " 5   Order Date      1000 non-null   object \n",
      " 6   Order ID        1000 non-null   int64  \n",
      " 7   Ship Date       1000 non-null   object \n",
      " 8   Units Sold      1000 non-null   int64  \n",
      " 9   Unit Price      1000 non-null   float64\n",
      " 10  Unit Cost       1000 non-null   float64\n",
      " 11  Total Revenue   1000 non-null   float64\n",
      " 12  Total Cost      1000 non-null   float64\n",
      " 13  Total Profit    1000 non-null   float64\n",
      "dtypes: float64(5), int64(2), object(7)\n",
      "memory usage: 109.5+ KB\n"
     ]
    }
   ],
   "source": [
    "data.info()"
   ]
  },
  {
   "cell_type": "code",
   "execution_count": 27,
   "metadata": {},
   "outputs": [
    {
     "data": {
      "text/plain": [
       "(1000, 14)"
      ]
     },
     "execution_count": 27,
     "metadata": {},
     "output_type": "execute_result"
    }
   ],
   "source": [
    "data.shape"
   ]
  },
  {
   "cell_type": "code",
   "execution_count": 8,
   "metadata": {},
   "outputs": [
    {
     "data": {
      "text/html": [
       "<div>\n",
       "<style scoped>\n",
       "    .dataframe tbody tr th:only-of-type {\n",
       "        vertical-align: middle;\n",
       "    }\n",
       "\n",
       "    .dataframe tbody tr th {\n",
       "        vertical-align: top;\n",
       "    }\n",
       "\n",
       "    .dataframe thead th {\n",
       "        text-align: right;\n",
       "    }\n",
       "</style>\n",
       "<table border=\"1\" class=\"dataframe\">\n",
       "  <thead>\n",
       "    <tr style=\"text-align: right;\">\n",
       "      <th></th>\n",
       "      <th>Region</th>\n",
       "      <th>Country</th>\n",
       "      <th>Item Type</th>\n",
       "      <th>Sales Channel</th>\n",
       "      <th>Order Priority</th>\n",
       "      <th>Order Date</th>\n",
       "      <th>Order ID</th>\n",
       "      <th>Ship Date</th>\n",
       "      <th>Units Sold</th>\n",
       "      <th>Unit Price</th>\n",
       "      <th>Unit Cost</th>\n",
       "      <th>Total Revenue</th>\n",
       "      <th>Total Cost</th>\n",
       "      <th>Total Profit</th>\n",
       "    </tr>\n",
       "  </thead>\n",
       "  <tbody>\n",
       "    <tr>\n",
       "      <th>0</th>\n",
       "      <td>Middle East and North Africa</td>\n",
       "      <td>Libya</td>\n",
       "      <td>Cosmetics</td>\n",
       "      <td>Offline</td>\n",
       "      <td>M</td>\n",
       "      <td>10/18/2014</td>\n",
       "      <td>686800706</td>\n",
       "      <td>10/31/2014</td>\n",
       "      <td>8446</td>\n",
       "      <td>437.20</td>\n",
       "      <td>263.33</td>\n",
       "      <td>3692591.20</td>\n",
       "      <td>2224085.18</td>\n",
       "      <td>1468506.02</td>\n",
       "    </tr>\n",
       "    <tr>\n",
       "      <th>1</th>\n",
       "      <td>North America</td>\n",
       "      <td>Canada</td>\n",
       "      <td>Vegetables</td>\n",
       "      <td>Online</td>\n",
       "      <td>M</td>\n",
       "      <td>11/7/2011</td>\n",
       "      <td>185941302</td>\n",
       "      <td>12/8/2011</td>\n",
       "      <td>3018</td>\n",
       "      <td>154.06</td>\n",
       "      <td>90.93</td>\n",
       "      <td>464953.08</td>\n",
       "      <td>274426.74</td>\n",
       "      <td>190526.34</td>\n",
       "    </tr>\n",
       "    <tr>\n",
       "      <th>2</th>\n",
       "      <td>Middle East and North Africa</td>\n",
       "      <td>Libya</td>\n",
       "      <td>Baby Food</td>\n",
       "      <td>Offline</td>\n",
       "      <td>C</td>\n",
       "      <td>10/31/2016</td>\n",
       "      <td>246222341</td>\n",
       "      <td>12/9/2016</td>\n",
       "      <td>1517</td>\n",
       "      <td>255.28</td>\n",
       "      <td>159.42</td>\n",
       "      <td>387259.76</td>\n",
       "      <td>241840.14</td>\n",
       "      <td>145419.62</td>\n",
       "    </tr>\n",
       "    <tr>\n",
       "      <th>3</th>\n",
       "      <td>Asia</td>\n",
       "      <td>Japan</td>\n",
       "      <td>Cereal</td>\n",
       "      <td>Offline</td>\n",
       "      <td>C</td>\n",
       "      <td>4/10/2010</td>\n",
       "      <td>161442649</td>\n",
       "      <td>5/12/2010</td>\n",
       "      <td>3322</td>\n",
       "      <td>205.70</td>\n",
       "      <td>117.11</td>\n",
       "      <td>683335.40</td>\n",
       "      <td>389039.42</td>\n",
       "      <td>294295.98</td>\n",
       "    </tr>\n",
       "    <tr>\n",
       "      <th>4</th>\n",
       "      <td>Sub-Saharan Africa</td>\n",
       "      <td>Chad</td>\n",
       "      <td>Fruits</td>\n",
       "      <td>Offline</td>\n",
       "      <td>H</td>\n",
       "      <td>8/16/2011</td>\n",
       "      <td>645713555</td>\n",
       "      <td>8/31/2011</td>\n",
       "      <td>9845</td>\n",
       "      <td>9.33</td>\n",
       "      <td>6.92</td>\n",
       "      <td>91853.85</td>\n",
       "      <td>68127.40</td>\n",
       "      <td>23726.45</td>\n",
       "    </tr>\n",
       "  </tbody>\n",
       "</table>\n",
       "</div>"
      ],
      "text/plain": [
       "                         Region Country   Item Type Sales Channel  \\\n",
       "0  Middle East and North Africa   Libya   Cosmetics       Offline   \n",
       "1                 North America  Canada  Vegetables        Online   \n",
       "2  Middle East and North Africa   Libya   Baby Food       Offline   \n",
       "3                          Asia   Japan      Cereal       Offline   \n",
       "4            Sub-Saharan Africa    Chad      Fruits       Offline   \n",
       "\n",
       "  Order Priority  Order Date   Order ID   Ship Date  Units Sold  Unit Price  \\\n",
       "0              M  10/18/2014  686800706  10/31/2014        8446      437.20   \n",
       "1              M   11/7/2011  185941302   12/8/2011        3018      154.06   \n",
       "2              C  10/31/2016  246222341   12/9/2016        1517      255.28   \n",
       "3              C   4/10/2010  161442649   5/12/2010        3322      205.70   \n",
       "4              H   8/16/2011  645713555   8/31/2011        9845        9.33   \n",
       "\n",
       "   Unit Cost  Total Revenue  Total Cost  Total Profit  \n",
       "0     263.33     3692591.20  2224085.18    1468506.02  \n",
       "1      90.93      464953.08   274426.74     190526.34  \n",
       "2     159.42      387259.76   241840.14     145419.62  \n",
       "3     117.11      683335.40   389039.42     294295.98  \n",
       "4       6.92       91853.85    68127.40      23726.45  "
      ]
     },
     "execution_count": 8,
     "metadata": {},
     "output_type": "execute_result"
    }
   ],
   "source": [
    "data.head()"
   ]
  },
  {
   "cell_type": "code",
   "execution_count": 48,
   "metadata": {},
   "outputs": [
    {
     "data": {
      "text/plain": [
       "(pandas.core.series.Series, pandas.core.frame.DataFrame, numpy.ndarray)"
      ]
     },
     "execution_count": 48,
     "metadata": {},
     "output_type": "execute_result"
    }
   ],
   "source": [
    "type(data.Country), type(data), type(data.Country.values)"
   ]
  },
  {
   "cell_type": "code",
   "execution_count": 24,
   "metadata": {},
   "outputs": [
    {
     "data": {
      "text/plain": [
       "(0     Libya\n",
       " 1    Canada\n",
       " 2     Libya\n",
       " 3     Japan\n",
       " 4      Chad\n",
       " Name: Country, dtype: object,\n",
       " 0     Libya\n",
       " 1    Canada\n",
       " 2     Libya\n",
       " 3     Japan\n",
       " 4      Chad\n",
       " Name: Country, dtype: object,\n",
       " 0     Libya\n",
       " 1    Canada\n",
       " 2     Libya\n",
       " 3     Japan\n",
       " 4      Chad\n",
       " Name: Country, dtype: object)"
      ]
     },
     "execution_count": 24,
     "metadata": {},
     "output_type": "execute_result"
    }
   ],
   "source": [
    "data.iloc[:,1].head(), data.Country.head(), data['Country'].head()"
   ]
  },
  {
   "cell_type": "code",
   "execution_count": 29,
   "metadata": {},
   "outputs": [
    {
     "data": {
      "text/plain": [
       "Beverages          101\n",
       "Vegetables          97\n",
       "Office Supplies     89\n",
       "Baby Food           87\n",
       "Personal Care       87\n",
       "Snacks              82\n",
       "Cereal              79\n",
       "Clothes             78\n",
       "Meat                78\n",
       "Household           77\n",
       "Cosmetics           75\n",
       "Fruits              70\n",
       "Name: Item Type, dtype: int64"
      ]
     },
     "execution_count": 29,
     "metadata": {},
     "output_type": "execute_result"
    }
   ],
   "source": [
    "data['Item Type'].value_counts()"
   ]
  },
  {
   "cell_type": "markdown",
   "metadata": {},
   "source": [
    "Boolean indexing, masks"
   ]
  },
  {
   "cell_type": "markdown",
   "metadata": {},
   "source": [
    "AND & \n",
    "<br>\n",
    "OR |\n",
    "<br>\n",
    "NOT ~"
   ]
  },
  {
   "cell_type": "code",
   "execution_count": 33,
   "metadata": {},
   "outputs": [],
   "source": [
    "m_mask = data['Order Priority'] == 'M'"
   ]
  },
  {
   "cell_type": "code",
   "execution_count": 37,
   "metadata": {},
   "outputs": [
    {
     "data": {
      "text/plain": [
       "0     True\n",
       "1     True\n",
       "2    False\n",
       "3    False\n",
       "4    False\n",
       "Name: Order Priority, dtype: bool"
      ]
     },
     "execution_count": 37,
     "metadata": {},
     "output_type": "execute_result"
    }
   ],
   "source": [
    "m_mask.head()"
   ]
  },
  {
   "cell_type": "code",
   "execution_count": 35,
   "metadata": {},
   "outputs": [],
   "source": [
    "m_filtered_data = data[m_mask]"
   ]
  },
  {
   "cell_type": "code",
   "execution_count": 38,
   "metadata": {},
   "outputs": [
    {
     "data": {
      "text/html": [
       "<div>\n",
       "<style scoped>\n",
       "    .dataframe tbody tr th:only-of-type {\n",
       "        vertical-align: middle;\n",
       "    }\n",
       "\n",
       "    .dataframe tbody tr th {\n",
       "        vertical-align: top;\n",
       "    }\n",
       "\n",
       "    .dataframe thead th {\n",
       "        text-align: right;\n",
       "    }\n",
       "</style>\n",
       "<table border=\"1\" class=\"dataframe\">\n",
       "  <thead>\n",
       "    <tr style=\"text-align: right;\">\n",
       "      <th></th>\n",
       "      <th>Region</th>\n",
       "      <th>Country</th>\n",
       "      <th>Item Type</th>\n",
       "      <th>Sales Channel</th>\n",
       "      <th>Order Priority</th>\n",
       "      <th>Order Date</th>\n",
       "      <th>Order ID</th>\n",
       "      <th>Ship Date</th>\n",
       "      <th>Units Sold</th>\n",
       "      <th>Unit Price</th>\n",
       "      <th>Unit Cost</th>\n",
       "      <th>Total Revenue</th>\n",
       "      <th>Total Cost</th>\n",
       "      <th>Total Profit</th>\n",
       "    </tr>\n",
       "  </thead>\n",
       "  <tbody>\n",
       "    <tr>\n",
       "      <th>0</th>\n",
       "      <td>Middle East and North Africa</td>\n",
       "      <td>Libya</td>\n",
       "      <td>Cosmetics</td>\n",
       "      <td>Offline</td>\n",
       "      <td>M</td>\n",
       "      <td>10/18/2014</td>\n",
       "      <td>686800706</td>\n",
       "      <td>10/31/2014</td>\n",
       "      <td>8446</td>\n",
       "      <td>437.20</td>\n",
       "      <td>263.33</td>\n",
       "      <td>3692591.20</td>\n",
       "      <td>2224085.18</td>\n",
       "      <td>1468506.02</td>\n",
       "    </tr>\n",
       "    <tr>\n",
       "      <th>1</th>\n",
       "      <td>North America</td>\n",
       "      <td>Canada</td>\n",
       "      <td>Vegetables</td>\n",
       "      <td>Online</td>\n",
       "      <td>M</td>\n",
       "      <td>11/7/2011</td>\n",
       "      <td>185941302</td>\n",
       "      <td>12/8/2011</td>\n",
       "      <td>3018</td>\n",
       "      <td>154.06</td>\n",
       "      <td>90.93</td>\n",
       "      <td>464953.08</td>\n",
       "      <td>274426.74</td>\n",
       "      <td>190526.34</td>\n",
       "    </tr>\n",
       "    <tr>\n",
       "      <th>7</th>\n",
       "      <td>Europe</td>\n",
       "      <td>Montenegro</td>\n",
       "      <td>Clothes</td>\n",
       "      <td>Offline</td>\n",
       "      <td>M</td>\n",
       "      <td>5/17/2012</td>\n",
       "      <td>208630645</td>\n",
       "      <td>6/28/2012</td>\n",
       "      <td>7299</td>\n",
       "      <td>109.28</td>\n",
       "      <td>35.84</td>\n",
       "      <td>797634.72</td>\n",
       "      <td>261596.16</td>\n",
       "      <td>536038.56</td>\n",
       "    </tr>\n",
       "    <tr>\n",
       "      <th>10</th>\n",
       "      <td>Sub-Saharan Africa</td>\n",
       "      <td>Togo</td>\n",
       "      <td>Clothes</td>\n",
       "      <td>Online</td>\n",
       "      <td>M</td>\n",
       "      <td>12/29/2015</td>\n",
       "      <td>451010930</td>\n",
       "      <td>1/19/2016</td>\n",
       "      <td>3012</td>\n",
       "      <td>109.28</td>\n",
       "      <td>35.84</td>\n",
       "      <td>329151.36</td>\n",
       "      <td>107950.08</td>\n",
       "      <td>221201.28</td>\n",
       "    </tr>\n",
       "    <tr>\n",
       "      <th>11</th>\n",
       "      <td>Europe</td>\n",
       "      <td>Montenegro</td>\n",
       "      <td>Snacks</td>\n",
       "      <td>Offline</td>\n",
       "      <td>M</td>\n",
       "      <td>2/27/2010</td>\n",
       "      <td>220003211</td>\n",
       "      <td>3/18/2010</td>\n",
       "      <td>2694</td>\n",
       "      <td>152.58</td>\n",
       "      <td>97.44</td>\n",
       "      <td>411050.52</td>\n",
       "      <td>262503.36</td>\n",
       "      <td>148547.16</td>\n",
       "    </tr>\n",
       "  </tbody>\n",
       "</table>\n",
       "</div>"
      ],
      "text/plain": [
       "                          Region     Country   Item Type Sales Channel  \\\n",
       "0   Middle East and North Africa       Libya   Cosmetics       Offline   \n",
       "1                  North America      Canada  Vegetables        Online   \n",
       "7                         Europe  Montenegro     Clothes       Offline   \n",
       "10            Sub-Saharan Africa        Togo     Clothes        Online   \n",
       "11                        Europe  Montenegro      Snacks       Offline   \n",
       "\n",
       "   Order Priority  Order Date   Order ID   Ship Date  Units Sold  Unit Price  \\\n",
       "0               M  10/18/2014  686800706  10/31/2014        8446      437.20   \n",
       "1               M   11/7/2011  185941302   12/8/2011        3018      154.06   \n",
       "7               M   5/17/2012  208630645   6/28/2012        7299      109.28   \n",
       "10              M  12/29/2015  451010930   1/19/2016        3012      109.28   \n",
       "11              M   2/27/2010  220003211   3/18/2010        2694      152.58   \n",
       "\n",
       "    Unit Cost  Total Revenue  Total Cost  Total Profit  \n",
       "0      263.33     3692591.20  2224085.18    1468506.02  \n",
       "1       90.93      464953.08   274426.74     190526.34  \n",
       "7       35.84      797634.72   261596.16     536038.56  \n",
       "10      35.84      329151.36   107950.08     221201.28  \n",
       "11      97.44      411050.52   262503.36     148547.16  "
      ]
     },
     "execution_count": 38,
     "metadata": {},
     "output_type": "execute_result"
    }
   ],
   "source": [
    "m_filtered_data.head()"
   ]
  },
  {
   "cell_type": "code",
   "execution_count": 40,
   "metadata": {},
   "outputs": [],
   "source": [
    "snack_mask = data['Item Type'] == 'Snacks'\n",
    "m_snack_mask = m_mask & snack_mask\n",
    "m_snack_filtered_data = data[m_snack_mask]"
   ]
  },
  {
   "cell_type": "code",
   "execution_count": 42,
   "metadata": {},
   "outputs": [
    {
     "data": {
      "text/html": [
       "<div>\n",
       "<style scoped>\n",
       "    .dataframe tbody tr th:only-of-type {\n",
       "        vertical-align: middle;\n",
       "    }\n",
       "\n",
       "    .dataframe tbody tr th {\n",
       "        vertical-align: top;\n",
       "    }\n",
       "\n",
       "    .dataframe thead th {\n",
       "        text-align: right;\n",
       "    }\n",
       "</style>\n",
       "<table border=\"1\" class=\"dataframe\">\n",
       "  <thead>\n",
       "    <tr style=\"text-align: right;\">\n",
       "      <th></th>\n",
       "      <th>Region</th>\n",
       "      <th>Country</th>\n",
       "      <th>Item Type</th>\n",
       "      <th>Sales Channel</th>\n",
       "      <th>Order Priority</th>\n",
       "      <th>Order Date</th>\n",
       "      <th>Order ID</th>\n",
       "      <th>Ship Date</th>\n",
       "      <th>Units Sold</th>\n",
       "      <th>Unit Price</th>\n",
       "      <th>Unit Cost</th>\n",
       "      <th>Total Revenue</th>\n",
       "      <th>Total Cost</th>\n",
       "      <th>Total Profit</th>\n",
       "    </tr>\n",
       "  </thead>\n",
       "  <tbody>\n",
       "    <tr>\n",
       "      <th>11</th>\n",
       "      <td>Europe</td>\n",
       "      <td>Montenegro</td>\n",
       "      <td>Snacks</td>\n",
       "      <td>Offline</td>\n",
       "      <td>M</td>\n",
       "      <td>2/27/2010</td>\n",
       "      <td>220003211</td>\n",
       "      <td>3/18/2010</td>\n",
       "      <td>2694</td>\n",
       "      <td>152.58</td>\n",
       "      <td>97.44</td>\n",
       "      <td>411050.52</td>\n",
       "      <td>262503.36</td>\n",
       "      <td>148547.16</td>\n",
       "    </tr>\n",
       "    <tr>\n",
       "      <th>55</th>\n",
       "      <td>Asia</td>\n",
       "      <td>Malaysia</td>\n",
       "      <td>Snacks</td>\n",
       "      <td>Offline</td>\n",
       "      <td>M</td>\n",
       "      <td>10/6/2012</td>\n",
       "      <td>175033080</td>\n",
       "      <td>11/5/2012</td>\n",
       "      <td>5033</td>\n",
       "      <td>152.58</td>\n",
       "      <td>97.44</td>\n",
       "      <td>767935.14</td>\n",
       "      <td>490415.52</td>\n",
       "      <td>277519.62</td>\n",
       "    </tr>\n",
       "    <tr>\n",
       "      <th>84</th>\n",
       "      <td>Sub-Saharan Africa</td>\n",
       "      <td>Rwanda</td>\n",
       "      <td>Snacks</td>\n",
       "      <td>Online</td>\n",
       "      <td>M</td>\n",
       "      <td>3/6/2017</td>\n",
       "      <td>866792809</td>\n",
       "      <td>3/18/2017</td>\n",
       "      <td>2109</td>\n",
       "      <td>152.58</td>\n",
       "      <td>97.44</td>\n",
       "      <td>321791.22</td>\n",
       "      <td>205500.96</td>\n",
       "      <td>116290.26</td>\n",
       "    </tr>\n",
       "    <tr>\n",
       "      <th>120</th>\n",
       "      <td>Europe</td>\n",
       "      <td>Sweden</td>\n",
       "      <td>Snacks</td>\n",
       "      <td>Online</td>\n",
       "      <td>M</td>\n",
       "      <td>4/12/2011</td>\n",
       "      <td>742443025</td>\n",
       "      <td>4/15/2011</td>\n",
       "      <td>4245</td>\n",
       "      <td>152.58</td>\n",
       "      <td>97.44</td>\n",
       "      <td>647702.10</td>\n",
       "      <td>413632.80</td>\n",
       "      <td>234069.30</td>\n",
       "    </tr>\n",
       "    <tr>\n",
       "      <th>121</th>\n",
       "      <td>Sub-Saharan Africa</td>\n",
       "      <td>Gabon</td>\n",
       "      <td>Snacks</td>\n",
       "      <td>Offline</td>\n",
       "      <td>M</td>\n",
       "      <td>10/3/2010</td>\n",
       "      <td>164569461</td>\n",
       "      <td>10/5/2010</td>\n",
       "      <td>8615</td>\n",
       "      <td>152.58</td>\n",
       "      <td>97.44</td>\n",
       "      <td>1314476.70</td>\n",
       "      <td>839445.60</td>\n",
       "      <td>475031.10</td>\n",
       "    </tr>\n",
       "  </tbody>\n",
       "</table>\n",
       "</div>"
      ],
      "text/plain": [
       "                 Region     Country Item Type Sales Channel Order Priority  \\\n",
       "11               Europe  Montenegro    Snacks       Offline              M   \n",
       "55                 Asia    Malaysia    Snacks       Offline              M   \n",
       "84   Sub-Saharan Africa      Rwanda    Snacks        Online              M   \n",
       "120              Europe      Sweden    Snacks        Online              M   \n",
       "121  Sub-Saharan Africa       Gabon    Snacks       Offline              M   \n",
       "\n",
       "    Order Date   Order ID  Ship Date  Units Sold  Unit Price  Unit Cost  \\\n",
       "11   2/27/2010  220003211  3/18/2010        2694      152.58      97.44   \n",
       "55   10/6/2012  175033080  11/5/2012        5033      152.58      97.44   \n",
       "84    3/6/2017  866792809  3/18/2017        2109      152.58      97.44   \n",
       "120  4/12/2011  742443025  4/15/2011        4245      152.58      97.44   \n",
       "121  10/3/2010  164569461  10/5/2010        8615      152.58      97.44   \n",
       "\n",
       "     Total Revenue  Total Cost  Total Profit  \n",
       "11       411050.52   262503.36     148547.16  \n",
       "55       767935.14   490415.52     277519.62  \n",
       "84       321791.22   205500.96     116290.26  \n",
       "120      647702.10   413632.80     234069.30  \n",
       "121     1314476.70   839445.60     475031.10  "
      ]
     },
     "execution_count": 42,
     "metadata": {},
     "output_type": "execute_result"
    }
   ],
   "source": [
    "m_snack_filtered_data.head()"
   ]
  },
  {
   "cell_type": "markdown",
   "metadata": {},
   "source": [
    "String columns handling"
   ]
  },
  {
   "cell_type": "markdown",
   "metadata": {},
   "source": [
    "Series.str.contains()\n",
    "<br>\n",
    "Series.str.startswith()\n",
    "<br>\n",
    "Series.str.isnumeric()"
   ]
  },
  {
   "cell_type": "code",
   "execution_count": 50,
   "metadata": {},
   "outputs": [],
   "source": [
    "africa_mask = data['Region'].str.contains('Africa')\n",
    "africa_data = data[africa_mask]"
   ]
  },
  {
   "cell_type": "code",
   "execution_count": 52,
   "metadata": {},
   "outputs": [
    {
     "data": {
      "text/html": [
       "<div>\n",
       "<style scoped>\n",
       "    .dataframe tbody tr th:only-of-type {\n",
       "        vertical-align: middle;\n",
       "    }\n",
       "\n",
       "    .dataframe tbody tr th {\n",
       "        vertical-align: top;\n",
       "    }\n",
       "\n",
       "    .dataframe thead th {\n",
       "        text-align: right;\n",
       "    }\n",
       "</style>\n",
       "<table border=\"1\" class=\"dataframe\">\n",
       "  <thead>\n",
       "    <tr style=\"text-align: right;\">\n",
       "      <th></th>\n",
       "      <th>Region</th>\n",
       "      <th>Country</th>\n",
       "      <th>Item Type</th>\n",
       "      <th>Sales Channel</th>\n",
       "      <th>Order Priority</th>\n",
       "      <th>Order Date</th>\n",
       "      <th>Order ID</th>\n",
       "      <th>Ship Date</th>\n",
       "      <th>Units Sold</th>\n",
       "      <th>Unit Price</th>\n",
       "      <th>Unit Cost</th>\n",
       "      <th>Total Revenue</th>\n",
       "      <th>Total Cost</th>\n",
       "      <th>Total Profit</th>\n",
       "    </tr>\n",
       "  </thead>\n",
       "  <tbody>\n",
       "    <tr>\n",
       "      <th>0</th>\n",
       "      <td>Middle East and North Africa</td>\n",
       "      <td>Libya</td>\n",
       "      <td>Cosmetics</td>\n",
       "      <td>Offline</td>\n",
       "      <td>M</td>\n",
       "      <td>10/18/2014</td>\n",
       "      <td>686800706</td>\n",
       "      <td>10/31/2014</td>\n",
       "      <td>8446</td>\n",
       "      <td>437.20</td>\n",
       "      <td>263.33</td>\n",
       "      <td>3692591.20</td>\n",
       "      <td>2224085.18</td>\n",
       "      <td>1468506.02</td>\n",
       "    </tr>\n",
       "    <tr>\n",
       "      <th>2</th>\n",
       "      <td>Middle East and North Africa</td>\n",
       "      <td>Libya</td>\n",
       "      <td>Baby Food</td>\n",
       "      <td>Offline</td>\n",
       "      <td>C</td>\n",
       "      <td>10/31/2016</td>\n",
       "      <td>246222341</td>\n",
       "      <td>12/9/2016</td>\n",
       "      <td>1517</td>\n",
       "      <td>255.28</td>\n",
       "      <td>159.42</td>\n",
       "      <td>387259.76</td>\n",
       "      <td>241840.14</td>\n",
       "      <td>145419.62</td>\n",
       "    </tr>\n",
       "    <tr>\n",
       "      <th>4</th>\n",
       "      <td>Sub-Saharan Africa</td>\n",
       "      <td>Chad</td>\n",
       "      <td>Fruits</td>\n",
       "      <td>Offline</td>\n",
       "      <td>H</td>\n",
       "      <td>8/16/2011</td>\n",
       "      <td>645713555</td>\n",
       "      <td>8/31/2011</td>\n",
       "      <td>9845</td>\n",
       "      <td>9.33</td>\n",
       "      <td>6.92</td>\n",
       "      <td>91853.85</td>\n",
       "      <td>68127.40</td>\n",
       "      <td>23726.45</td>\n",
       "    </tr>\n",
       "    <tr>\n",
       "      <th>6</th>\n",
       "      <td>Sub-Saharan Africa</td>\n",
       "      <td>Eritrea</td>\n",
       "      <td>Cereal</td>\n",
       "      <td>Online</td>\n",
       "      <td>H</td>\n",
       "      <td>3/4/2015</td>\n",
       "      <td>679414975</td>\n",
       "      <td>4/17/2015</td>\n",
       "      <td>2844</td>\n",
       "      <td>205.70</td>\n",
       "      <td>117.11</td>\n",
       "      <td>585010.80</td>\n",
       "      <td>333060.84</td>\n",
       "      <td>251949.96</td>\n",
       "    </tr>\n",
       "    <tr>\n",
       "      <th>10</th>\n",
       "      <td>Sub-Saharan Africa</td>\n",
       "      <td>Togo</td>\n",
       "      <td>Clothes</td>\n",
       "      <td>Online</td>\n",
       "      <td>M</td>\n",
       "      <td>12/29/2015</td>\n",
       "      <td>451010930</td>\n",
       "      <td>1/19/2016</td>\n",
       "      <td>3012</td>\n",
       "      <td>109.28</td>\n",
       "      <td>35.84</td>\n",
       "      <td>329151.36</td>\n",
       "      <td>107950.08</td>\n",
       "      <td>221201.28</td>\n",
       "    </tr>\n",
       "  </tbody>\n",
       "</table>\n",
       "</div>"
      ],
      "text/plain": [
       "                          Region  Country  Item Type Sales Channel  \\\n",
       "0   Middle East and North Africa    Libya  Cosmetics       Offline   \n",
       "2   Middle East and North Africa    Libya  Baby Food       Offline   \n",
       "4             Sub-Saharan Africa     Chad     Fruits       Offline   \n",
       "6             Sub-Saharan Africa  Eritrea     Cereal        Online   \n",
       "10            Sub-Saharan Africa     Togo    Clothes        Online   \n",
       "\n",
       "   Order Priority  Order Date   Order ID   Ship Date  Units Sold  Unit Price  \\\n",
       "0               M  10/18/2014  686800706  10/31/2014        8446      437.20   \n",
       "2               C  10/31/2016  246222341   12/9/2016        1517      255.28   \n",
       "4               H   8/16/2011  645713555   8/31/2011        9845        9.33   \n",
       "6               H    3/4/2015  679414975   4/17/2015        2844      205.70   \n",
       "10              M  12/29/2015  451010930   1/19/2016        3012      109.28   \n",
       "\n",
       "    Unit Cost  Total Revenue  Total Cost  Total Profit  \n",
       "0      263.33     3692591.20  2224085.18    1468506.02  \n",
       "2      159.42      387259.76   241840.14     145419.62  \n",
       "4        6.92       91853.85    68127.40      23726.45  \n",
       "6      117.11      585010.80   333060.84     251949.96  \n",
       "10      35.84      329151.36   107950.08     221201.28  "
      ]
     },
     "execution_count": 52,
     "metadata": {},
     "output_type": "execute_result"
    }
   ],
   "source": [
    "africa_data.head()"
   ]
  },
  {
   "cell_type": "markdown",
   "metadata": {},
   "source": [
    "Some of basic data conversion"
   ]
  },
  {
   "cell_type": "code",
   "execution_count": 55,
   "metadata": {},
   "outputs": [
    {
     "name": "stdout",
     "output_type": "stream",
     "text": [
      "<class 'pandas.core.frame.DataFrame'>\n",
      "RangeIndex: 1000 entries, 0 to 999\n",
      "Data columns (total 2 columns):\n",
      " #   Column      Non-Null Count  Dtype \n",
      "---  ------      --------------  ----- \n",
      " 0   Ship Date   1000 non-null   object\n",
      " 1   Order Date  1000 non-null   object\n",
      "dtypes: object(2)\n",
      "memory usage: 15.8+ KB\n"
     ]
    }
   ],
   "source": [
    "data[['Ship Date', 'Order Date']].info()"
   ]
  },
  {
   "cell_type": "code",
   "execution_count": 60,
   "metadata": {},
   "outputs": [],
   "source": [
    "data['Ship Date']= pd.to_datetime(data['Ship Date'])\n",
    "data['Order Date']= pd.to_datetime(data['Order Date'])"
   ]
  },
  {
   "cell_type": "code",
   "execution_count": 62,
   "metadata": {},
   "outputs": [
    {
     "name": "stdout",
     "output_type": "stream",
     "text": [
      "<class 'pandas.core.frame.DataFrame'>\n",
      "RangeIndex: 1000 entries, 0 to 999\n",
      "Data columns (total 2 columns):\n",
      " #   Column      Non-Null Count  Dtype         \n",
      "---  ------      --------------  -----         \n",
      " 0   Ship Date   1000 non-null   datetime64[ns]\n",
      " 1   Order Date  1000 non-null   datetime64[ns]\n",
      "dtypes: datetime64[ns](2)\n",
      "memory usage: 15.8 KB\n"
     ]
    }
   ],
   "source": [
    "data[['Ship Date', 'Order Date']].info()"
   ]
  },
  {
   "cell_type": "markdown",
   "metadata": {},
   "source": [
    "# Common part I\n",
    "Show list of 3 countries with the lowest units sold:\n",
    "- from Africa\n",
    "- for selling fruits \n",
    "- with C priority\n",
    "- between 2013 and 2018 order date\n"
   ]
  },
  {
   "cell_type": "code",
   "execution_count": null,
   "metadata": {},
   "outputs": [],
   "source": [
    "data = pd.read_csv(\"sales_records.csv\")\n",
    "data['Ship Date']= pd.to_datetime(data['Ship Date'])\n",
    "data['Order Date']= pd.to_datetime(data['Order Date'])\n",
    "data.head()"
   ]
  },
  {
   "cell_type": "markdown",
   "metadata": {},
   "source": [
    "# Homework part I"
   ]
  },
  {
   "cell_type": "markdown",
   "metadata": {},
   "source": [
    "For given data perform following operations by filtering the data (for 1 point each).\n",
    "<br>\n",
    "- choose one Item Type (choose one by yourself, get results as Series of bolean values)\n",
    "- total cost is higher than total profit (get results as Series of bolean values)\n",
    "- merge two earlier conditions and show top 3 countries with highest units sold as list"
   ]
  },
  {
   "cell_type": "code",
   "execution_count": 53,
   "metadata": {},
   "outputs": [
    {
     "data": {
      "text/html": [
       "<div>\n",
       "<style scoped>\n",
       "    .dataframe tbody tr th:only-of-type {\n",
       "        vertical-align: middle;\n",
       "    }\n",
       "\n",
       "    .dataframe tbody tr th {\n",
       "        vertical-align: top;\n",
       "    }\n",
       "\n",
       "    .dataframe thead th {\n",
       "        text-align: right;\n",
       "    }\n",
       "</style>\n",
       "<table border=\"1\" class=\"dataframe\">\n",
       "  <thead>\n",
       "    <tr style=\"text-align: right;\">\n",
       "      <th></th>\n",
       "      <th>Region</th>\n",
       "      <th>Country</th>\n",
       "      <th>Item Type</th>\n",
       "      <th>Sales Channel</th>\n",
       "      <th>Order Priority</th>\n",
       "      <th>Order Date</th>\n",
       "      <th>Order ID</th>\n",
       "      <th>Ship Date</th>\n",
       "      <th>Units Sold</th>\n",
       "      <th>Unit Price</th>\n",
       "      <th>Unit Cost</th>\n",
       "      <th>Total Revenue</th>\n",
       "      <th>Total Cost</th>\n",
       "      <th>Total Profit</th>\n",
       "    </tr>\n",
       "  </thead>\n",
       "  <tbody>\n",
       "    <tr>\n",
       "      <th>0</th>\n",
       "      <td>Middle East and North Africa</td>\n",
       "      <td>Libya</td>\n",
       "      <td>Cosmetics</td>\n",
       "      <td>Offline</td>\n",
       "      <td>M</td>\n",
       "      <td>2014-10-18</td>\n",
       "      <td>686800706</td>\n",
       "      <td>2014-10-31</td>\n",
       "      <td>8446</td>\n",
       "      <td>437.20</td>\n",
       "      <td>263.33</td>\n",
       "      <td>3692591.20</td>\n",
       "      <td>2224085.18</td>\n",
       "      <td>1468506.02</td>\n",
       "    </tr>\n",
       "    <tr>\n",
       "      <th>1</th>\n",
       "      <td>North America</td>\n",
       "      <td>Canada</td>\n",
       "      <td>Vegetables</td>\n",
       "      <td>Online</td>\n",
       "      <td>M</td>\n",
       "      <td>2011-11-07</td>\n",
       "      <td>185941302</td>\n",
       "      <td>2011-12-08</td>\n",
       "      <td>3018</td>\n",
       "      <td>154.06</td>\n",
       "      <td>90.93</td>\n",
       "      <td>464953.08</td>\n",
       "      <td>274426.74</td>\n",
       "      <td>190526.34</td>\n",
       "    </tr>\n",
       "    <tr>\n",
       "      <th>2</th>\n",
       "      <td>Middle East and North Africa</td>\n",
       "      <td>Libya</td>\n",
       "      <td>Baby Food</td>\n",
       "      <td>Offline</td>\n",
       "      <td>C</td>\n",
       "      <td>2016-10-31</td>\n",
       "      <td>246222341</td>\n",
       "      <td>2016-12-09</td>\n",
       "      <td>1517</td>\n",
       "      <td>255.28</td>\n",
       "      <td>159.42</td>\n",
       "      <td>387259.76</td>\n",
       "      <td>241840.14</td>\n",
       "      <td>145419.62</td>\n",
       "    </tr>\n",
       "    <tr>\n",
       "      <th>3</th>\n",
       "      <td>Asia</td>\n",
       "      <td>Japan</td>\n",
       "      <td>Cereal</td>\n",
       "      <td>Offline</td>\n",
       "      <td>C</td>\n",
       "      <td>2010-04-10</td>\n",
       "      <td>161442649</td>\n",
       "      <td>2010-05-12</td>\n",
       "      <td>3322</td>\n",
       "      <td>205.70</td>\n",
       "      <td>117.11</td>\n",
       "      <td>683335.40</td>\n",
       "      <td>389039.42</td>\n",
       "      <td>294295.98</td>\n",
       "    </tr>\n",
       "    <tr>\n",
       "      <th>4</th>\n",
       "      <td>Sub-Saharan Africa</td>\n",
       "      <td>Chad</td>\n",
       "      <td>Fruits</td>\n",
       "      <td>Offline</td>\n",
       "      <td>H</td>\n",
       "      <td>2011-08-16</td>\n",
       "      <td>645713555</td>\n",
       "      <td>2011-08-31</td>\n",
       "      <td>9845</td>\n",
       "      <td>9.33</td>\n",
       "      <td>6.92</td>\n",
       "      <td>91853.85</td>\n",
       "      <td>68127.40</td>\n",
       "      <td>23726.45</td>\n",
       "    </tr>\n",
       "  </tbody>\n",
       "</table>\n",
       "</div>"
      ],
      "text/plain": [
       "                         Region Country   Item Type Sales Channel  \\\n",
       "0  Middle East and North Africa   Libya   Cosmetics       Offline   \n",
       "1                 North America  Canada  Vegetables        Online   \n",
       "2  Middle East and North Africa   Libya   Baby Food       Offline   \n",
       "3                          Asia   Japan      Cereal       Offline   \n",
       "4            Sub-Saharan Africa    Chad      Fruits       Offline   \n",
       "\n",
       "  Order Priority Order Date   Order ID  Ship Date  Units Sold  Unit Price  \\\n",
       "0              M 2014-10-18  686800706 2014-10-31        8446      437.20   \n",
       "1              M 2011-11-07  185941302 2011-12-08        3018      154.06   \n",
       "2              C 2016-10-31  246222341 2016-12-09        1517      255.28   \n",
       "3              C 2010-04-10  161442649 2010-05-12        3322      205.70   \n",
       "4              H 2011-08-16  645713555 2011-08-31        9845        9.33   \n",
       "\n",
       "   Unit Cost  Total Revenue  Total Cost  Total Profit  \n",
       "0     263.33     3692591.20  2224085.18    1468506.02  \n",
       "1      90.93      464953.08   274426.74     190526.34  \n",
       "2     159.42      387259.76   241840.14     145419.62  \n",
       "3     117.11      683335.40   389039.42     294295.98  \n",
       "4       6.92       91853.85    68127.40      23726.45  "
      ]
     },
     "execution_count": 53,
     "metadata": {},
     "output_type": "execute_result"
    }
   ],
   "source": [
    "data = pd.read_csv(\"sales_records.csv\")\n",
    "data['Ship Date']= pd.to_datetime(data['Ship Date'])\n",
    "data['Order Date']= pd.to_datetime(data['Order Date'])\n",
    "data.head()"
   ]
  },
  {
   "cell_type": "code",
   "execution_count": 67,
   "metadata": {},
   "outputs": [],
   "source": [
    "# write your code here"
   ]
  }
 ],
 "metadata": {
  "kernelspec": {
   "display_name": "Python 3.10.6 ('venv': venv)",
   "language": "python",
   "name": "python3"
  },
  "language_info": {
   "codemirror_mode": {
    "name": "ipython",
    "version": 3
   },
   "file_extension": ".py",
   "mimetype": "text/x-python",
   "name": "python",
   "nbconvert_exporter": "python",
   "pygments_lexer": "ipython3",
   "version": "3.10.6"
  },
  "orig_nbformat": 4,
  "vscode": {
   "interpreter": {
    "hash": "a0cfe41d759077e8b3156fce37c3070ded4773c57e8a6abd3baf4d19e9895650"
   }
  }
 },
 "nbformat": 4,
 "nbformat_minor": 2
}
